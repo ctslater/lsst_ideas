{
 "cells": [
  {
   "cell_type": "code",
   "execution_count": 46,
   "metadata": {
    "collapsed": false
   },
   "outputs": [],
   "source": [
    "%matplotlib inline\n",
    "from __future__ import print_function, division\n",
    "\n",
    "import matplotlib.pyplot as plt\n",
    "import numpy as np\n",
    "import astropy.units as u\n",
    "import sqlalchemy\n",
    "from sqlalchemy.orm import sessionmaker\n",
    "\n",
    "from star_diffim_correlation import SourceDetectionCorrelation as SDC"
   ]
  },
  {
   "cell_type": "code",
   "execution_count": 74,
   "metadata": {
    "collapsed": true
   },
   "outputs": [],
   "source": [
    "engine = sqlalchemy.create_engine('sqlite:///star_diffim.sqlite3')\n",
    "\n",
    "SessionFactory = sessionmaker()\n",
    "SessionFactory.configure(bind=engine)\n",
    "session = SessionFactory()"
   ]
  },
  {
   "cell_type": "code",
   "execution_count": 78,
   "metadata": {
    "collapsed": false
   },
   "outputs": [],
   "source": [
    "def make_normalized_histogram(filtered_query, bins):\n",
    "    H = zeros(len(bins) - 1)\n",
    "    for source in filtered_query:\n",
    "        source_H, _ = np.histogram(source.dist_array(), bins=bins)\n",
    "        H += source_H\n",
    "        \n",
    "    nstars = filtered_query.count()\n",
    "    norm = pi*bins[1:]**2 - pi*bins[:-1]**2\n",
    "    normalized_H = H/norm/float(nstars)\n",
    "    return normalized_H\n"
   ]
  },
  {
   "cell_type": "code",
   "execution_count": 87,
   "metadata": {
    "collapsed": false
   },
   "outputs": [
    {
     "data": {
      "text/plain": [
       "<matplotlib.legend.Legend at 0x10bc45390>"
      ]
     },
     "execution_count": 87,
     "metadata": {},
     "output_type": "execute_result"
    },
    {
     "data": {
      "image/png": "[encoded data removed]",
      "text/plain": [
       "<matplotlib.figure.Figure at 0x10df6ee90>"
      ]
     },
     "metadata": {},
     "output_type": "display_data"
    }
   ],
   "source": [
    "bins = linspace(0,120,60)\n",
    "bin_centers = 0.5*(bins[1:] + bins[:-1])\n",
    "\n",
    "# 60 chips. 0.045 sq deg per chip. 3600**2 sq arcsec per sq deg\n",
    "# 20e3 detections is what I get from counting on visit 197391\n",
    "mean_density = 20e3 / (60 * 0.045) / 3600.0**2\n",
    "\n",
    "filtered_query = session.query(SDC).filter(SDC.source_mag < 14)\n",
    "normalized_H = make_normalized_histogram(filtered_query, bins)\n",
    "plt.plot(bin_centers, normalized_H/mean_density, 'bo-', label=\"mag < 14\")\n",
    "\n",
    "filtered_query = session.query(SDC).filter(SDC.source_mag > 14, SDC.source_mag < 16)\n",
    "normalized_H = make_normalized_histogram(filtered_query, bins)\n",
    "plt.plot(bin_centers, normalized_H/mean_density, 'ro-', label=\"14 < mag < 16\")\n",
    "\n",
    "plt.axhline(1, color='k', ls='-', lw=2)\n",
    "plt.ylim(0,5)\n",
    "plt.xlim(0,60)\n",
    "plt.xlabel(\"Separation from source star (arcseconds)\")\n",
    "plt.ylabel(\"Diffim source density / mean density\")\n",
    "plt.legend(frameon=False, loc=\"upper right\")"
   ]
  },
  {
   "cell_type": "code",
   "execution_count": null,
   "metadata": {
    "collapsed": true
   },
   "outputs": [],
   "source": []
  }
 ],
 "metadata": {
  "kernelspec": {
   "display_name": "Python 2",
   "language": "python",
   "name": "python2"
  },
  "language_info": {
   "codemirror_mode": {
    "name": "ipython",
    "version": 2
   },
   "file_extension": ".py",
   "mimetype": "text/x-python",
   "name": "python",
   "nbconvert_exporter": "python",
   "pygments_lexer": "ipython2",
   "version": "2.7.10"
  }
 },
 "nbformat": 4,
 "nbformat_minor": 0
}
