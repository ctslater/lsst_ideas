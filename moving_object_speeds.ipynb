{
 "cells": [
  {
   "cell_type": "markdown",
   "metadata": {},
   "source": [
    "Moving Object Speeds\n",
    "====\n",
    "\n",
    "It would be useful to get a sense of how fast various types of objects are going to be moving, to check what will leave a trail vs what will only be detected in multiple exposures. This will all be fairly obvious stuff, but collected so I have it all written down in one place.\n",
    "\n",
    "Potential Objects:\n",
    "- Low earth orbit\n",
    "- Geostationary\n",
    "- Main Belt Asteroids\n",
    "- ~Neptune"
   ]
  },
  {
   "cell_type": "code",
   "execution_count": 20,
   "metadata": {
    "collapsed": true
   },
   "outputs": [],
   "source": [
    "import astropy.units as u\n",
    "import astropy.constants as c"
   ]
  },
  {
   "cell_type": "markdown",
   "metadata": {},
   "source": [
    "LEO\n",
    "--\n",
    "Orbit is ~90 minutes. Assuming it's directly overhead (will be reduced for more distant objects, and when some velocity is projected along the line of sight)."
   ]
  },
  {
   "cell_type": "code",
   "execution_count": 33,
   "metadata": {
    "collapsed": false
   },
   "outputs": [
    {
     "name": "stdout",
     "output_type": "stream",
     "text": [
      "Physical speed:  7.88671935653 km / s\n",
      "LEO:  16.94534 deg\n"
     ]
    }
   ],
   "source": [
    "leo_altitude = 400 * u.km\n",
    "leo_orbit_period = 90 * u.min\n",
    "leo_phys_speed = 2*pi*(leo_altitude + c.R_earth) / leo_orbit_period\n",
    "print \"Physical speed: \", leo_phys_speed.to(u.km/u.s)\n",
    "leo_app_speed = (leo_phys_speed * (15 * u.s) / leo_altitude * u.rad).to(u.deg)\n",
    "print \"LEO: \", leo_app_speed"
   ]
  },
  {
   "cell_type": "markdown",
   "metadata": {},
   "source": [
    "Just to check that the reflex motion is not significant,"
   ]
  },
  {
   "cell_type": "code",
   "execution_count": 34,
   "metadata": {
    "collapsed": false
   },
   "outputs": [
    {
     "data": {
      "text/latex": [
       "$0.46383114 \\; \\mathrm{\\frac{km}{s}}$"
      ],
      "text/plain": [
       "<Quantity 0.46383113891658767 km / s>"
      ]
     },
     "execution_count": 34,
     "metadata": {},
     "output_type": "execute_result"
    }
   ],
   "source": [
    "(2*pi*c.R_earth / (24*u.hr)).to(u.km/u.s)"
   ]
  },
  {
   "cell_type": "markdown",
   "metadata": {},
   "source": [
    "GEO\n",
    "---\n",
    "Orbit is 24 hours."
   ]
  },
  {
   "cell_type": "code",
   "execution_count": 35,
   "metadata": {
    "collapsed": false
   },
   "outputs": [
    {
     "name": "stdout",
     "output_type": "stream",
     "text": [
      "Physical speed:  3.00910296474 km / s\n",
      "GEO:  4.43337171429 arcmin\n"
     ]
    }
   ],
   "source": [
    "geo_altitude = 35e3 * u.km\n",
    "geo_orbit_period = 24 * u.hr\n",
    "geo_phys_speed = 2*pi*(geo_altitude + c.R_earth) / geo_orbit_period\n",
    "print \"Physical speed: \", geo_phys_speed.to(u.km/u.s)\n",
    "geo_app_speed = (geo_phys_speed * (15 * u.s) / geo_altitude * u.rad).to(u.arcmin)\n",
    "print \"GEO: \", geo_app_speed"
   ]
  },
  {
   "cell_type": "markdown",
   "metadata": {},
   "source": [
    "That was actually a really dumb calculation. Geostationary objects are stationary on the sky, therefore they move one minute per minute, or 15 arcseconds per second. So really the arcs will be:"
   ]
  },
  {
   "cell_type": "code",
   "execution_count": 39,
   "metadata": {
    "collapsed": false
   },
   "outputs": [
    {
     "name": "stdout",
     "output_type": "stream",
     "text": [
      "3.75 arcmin\n"
     ]
    }
   ],
   "source": [
    "geo_app_speed = 15*u.s * (15 * u.arcmin/u.min)\n",
    "print geo_app_speed.to(u.arcmin)"
   ]
  },
  {
   "cell_type": "markdown",
   "metadata": {},
   "source": [
    "Main Belt Asteroids\n",
    "---\n",
    "\n",
    "Most of the motion here is going to come from the Earth reflex motion."
   ]
  },
  {
   "cell_type": "code",
   "execution_count": 57,
   "metadata": {
    "collapsed": false
   },
   "outputs": [
    {
     "name": "stdout",
     "output_type": "stream",
     "text": [
      "Inner, outer periods:  2.95665621945 yr 5.91318721165 yr\n"
     ]
    }
   ],
   "source": [
    "#time_baseline = 15 * u.s\n",
    "\n",
    "mba_inner_radius = 2.06 * u.au\n",
    "mba_outer_radius = 3.27 * u.au\n",
    "mba_inner_P = (mba_inner_radius / u.au)**(3/2.0) * u.yr\n",
    "mba_outer_P = (mba_outer_radius / u.au)**(3/2.0) * u.yr\n",
    "print \"Inner, outer periods: \", mba_inner_P, mba_outer_P"
   ]
  },
  {
   "cell_type": "markdown",
   "metadata": {},
   "source": [
    "At opposition:"
   ]
  },
  {
   "cell_type": "code",
   "execution_count": 58,
   "metadata": {
    "collapsed": true
   },
   "outputs": [],
   "source": [
    "solar_reflex = 2*pi*u.au / u.yr\n",
    "mba_inner_v = 2*pi*mba_inner_radius/mba_inner_P\n",
    "mba_outer_v = 2*pi*mba_outer_radius/mba_outer_P"
   ]
  },
  {
   "cell_type": "markdown",
   "metadata": {},
   "source": [
    "Over a 15 second snap:"
   ]
  },
  {
   "cell_type": "code",
   "execution_count": 73,
   "metadata": {
    "collapsed": false
   },
   "outputs": [
    {
     "name": "stdout",
     "output_type": "stream",
     "text": [
      "Inner Edge: -0.18 arcsec\n",
      "Outer Edge: -0.12 arcsec\n"
     ]
    }
   ],
   "source": [
    "time_baseline = 15*u.s\n",
    "mba_inner_ang = (mba_inner_v - solar_reflex) * time_baseline / (mba_inner_radius - 1*u.au) * u.rad\n",
    "mba_outer_ang = (mba_outer_v - solar_reflex) * time_baseline / (mba_outer_radius - 1*u.au) * u.rad\n",
    "print \"Inner Edge: {0:.2f}\".format(mba_inner_ang.to(u.arcsec))\n",
    "print \"Outer Edge: {0:.2f}\".format(mba_outer_ang.to(u.arcsec))"
   ]
  },
  {
   "cell_type": "markdown",
   "metadata": {},
   "source": [
    "Between three day visits:"
   ]
  },
  {
   "cell_type": "code",
   "execution_count": 75,
   "metadata": {
    "collapsed": false
   },
   "outputs": [
    {
     "name": "stdout",
     "output_type": "stream",
     "text": [
      "Inner Edge: -0.85 deg\n",
      "Outer Edge: -0.58 deg\n"
     ]
    }
   ],
   "source": [
    "time_baseline = 3*u.day\n",
    "mba_inner_ang = (mba_inner_v - solar_reflex) * time_baseline / (mba_inner_radius - 1*u.au) * u.rad\n",
    "mba_outer_ang = (mba_outer_v - solar_reflex) * time_baseline / (mba_outer_radius - 1*u.au) * u.rad\n",
    "print \"Inner Edge: {0:.2f}\".format(mba_inner_ang.to(u.deg))\n",
    "print \"Outer Edge: {0:.2f}\".format(mba_outer_ang.to(u.deg))"
   ]
  },
  {
   "cell_type": "markdown",
   "metadata": {},
   "source": [
    "Let's just generalize this:"
   ]
  },
  {
   "cell_type": "code",
   "execution_count": 77,
   "metadata": {
    "collapsed": false
   },
   "outputs": [],
   "source": [
    "def ss_object_angular_speed(heliocentric_dist):\n",
    "    solar_reflex = 2*pi*u.au / u.yr\n",
    "    obj_P = (heliocentric_dist / u.au)**(3/2.0) * u.yr\n",
    "    obj_vel = 2*pi*heliocentric_dist/obj_P\n",
    "    ang_vel = (obj_vel - solar_reflex) / (heliocentric_dist - 1*u.au) * u.rad\n",
    "    return ang_vel\n",
    "    "
   ]
  },
  {
   "cell_type": "code",
   "execution_count": 88,
   "metadata": {
    "collapsed": false
   },
   "outputs": [
    {
     "name": "stdout",
     "output_type": "stream",
     "text": [
      "Neptune, snap: -0.015 arcsec\n",
      "Neptune, visits: -4.336 arcmin\n"
     ]
    }
   ],
   "source": [
    "neptune_angvel = ss_object_angular_speed(35*u.au)\n",
    "print \"Neptune, snap: {0:.3f}\".format((neptune_angvel*(15 *u.s)).to(u.arcsec))\n",
    "print \"Neptune, visits: {0:.3f}\".format((neptune_angvel*(3*u.day)).to(u.arcmin))"
   ]
  },
  {
   "cell_type": "markdown",
   "metadata": {},
   "source": [
    "Synthesis\n",
    "---\n",
    "This shows that:\n",
    "- LEO objects will cross the entire focal plane, or much of it.\n",
    "- GEO objects will appear as small tracks, easily recongizable\n",
    "- Asteroids will clearly be the hard part, since they won't appear as tracks, but will have high enough motion to move significantly between visits.\n",
    "- Distant objects will have short motions between visits, should be easily linked."
   ]
  },
  {
   "cell_type": "code",
   "execution_count": null,
   "metadata": {
    "collapsed": true
   },
   "outputs": [],
   "source": []
  }
 ],
 "metadata": {
  "kernelspec": {
   "display_name": "Python 2",
   "language": "python",
   "name": "python2"
  },
  "language_info": {
   "codemirror_mode": {
    "name": "ipython",
    "version": 2
   },
   "file_extension": ".py",
   "mimetype": "text/x-python",
   "name": "python",
   "nbconvert_exporter": "python",
   "pygments_lexer": "ipython2",
   "version": "2.7.10"
  }
 },
 "nbformat": 4,
 "nbformat_minor": 0
}
